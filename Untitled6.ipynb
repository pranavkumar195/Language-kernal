{
 "cells": [
  {
   "cell_type": "code",
   "execution_count": 1,
   "id": "5e3835c9-4c1b-456c-ba56-2dbb95e66b36",
   "metadata": {},
   "outputs": [],
   "source": [
    "import pandas as pd\n",
    "import numpy"
   ]
  },
  {
   "cell_type": "code",
   "execution_count": 2,
   "id": "d22d5207-812e-4a59-9695-2a478fb85ac6",
   "metadata": {},
   "outputs": [
    {
     "name": "stdout",
     "output_type": "stream",
     "text": [
      "  school sex  age address famsize Pstatus  Medu  Fedu     Mjob      Fjob  ...  \\\n",
      "0     GP   F   18       U     GT3       A     4     4  at_home   teacher  ...   \n",
      "1     GP   F   17       U     GT3       T     1     1  at_home     other  ...   \n",
      "2     GP   F   15       U     LE3       T     1     1  at_home     other  ...   \n",
      "3     GP   F   15       U     GT3       T     4     2   health  services  ...   \n",
      "4     GP   F   16       U     GT3       T     3     3    other     other  ...   \n",
      "\n",
      "  famrel freetime  goout  Dalc  Walc health absences  G1  G2  G3  \n",
      "0      4        3      4     1     1      3        6   5   6   6  \n",
      "1      5        3      3     1     1      3        4   5   5   6  \n",
      "2      4        3      2     2     3      3       10   7   8  10  \n",
      "3      3        2      2     1     1      5        2  15  14  15  \n",
      "4      4        3      2     1     2      5        4   6  10  10  \n",
      "\n",
      "[5 rows x 33 columns]\n"
     ]
    }
   ],
   "source": [
    "csv_url = 'https://raw.githubusercontent.com/guipsamora/pandas_exercises/master/04_Apply/Students_Alcohol_Consumption/student-mat.csv'\n",
    "df = pd.read_csv(csv_url)\n",
    "print(df.head())"
   ]
  },
  {
   "cell_type": "code",
   "execution_count": 3,
   "id": "e40857d2-60ce-4aaf-b19a-8e8ea6b8981d",
   "metadata": {},
   "outputs": [
    {
     "name": "stdout",
     "output_type": "stream",
     "text": [
      "\n",
      "Step 4 - Sliced Data:\n",
      "  school sex  age address famsize Pstatus  Medu  Fedu     Mjob      Fjob  \\\n",
      "0     GP   F   18       U     GT3       A     4     4  at_home   teacher   \n",
      "1     GP   F   17       U     GT3       T     1     1  at_home     other   \n",
      "2     GP   F   15       U     LE3       T     1     1  at_home     other   \n",
      "3     GP   F   15       U     GT3       T     4     2   health  services   \n",
      "4     GP   F   16       U     GT3       T     3     3    other     other   \n",
      "\n",
      "   reason guardian  \n",
      "0  course   mother  \n",
      "1  course   father  \n",
      "2   other   mother  \n",
      "3    home   mother  \n",
      "4    home   father  \n"
     ]
    }
   ],
   "source": [
    "stud_alcoh = df.loc[:, \"school\":\"guardian\"]\n",
    "print(\"\\nStep 4 - Sliced Data:\")\n",
    "print(stud_alcoh.head())"
   ]
  },
  {
   "cell_type": "code",
   "execution_count": 4,
   "id": "1f35927c-b91d-4435-a1e1-b82ef22931b2",
   "metadata": {},
   "outputs": [],
   "source": [
    "capitalizer = lambda x: x.capitalize()"
   ]
  },
  {
   "cell_type": "code",
   "execution_count": 5,
   "id": "b127c2f6-98a5-4c82-8199-ddfda8175e3e",
   "metadata": {},
   "outputs": [],
   "source": [
    "stud_alcoh['Mjob'] = stud_alcoh['Mjob'].apply(capitalizer)\n",
    "stud_alcoh['Fjob'] = stud_alcoh['Fjob'].apply(capitalizer)"
   ]
  },
  {
   "cell_type": "code",
   "execution_count": 6,
   "id": "fbb165ef-d553-47a5-95e0-2131946f45e4",
   "metadata": {},
   "outputs": [
    {
     "name": "stdout",
     "output_type": "stream",
     "text": [
      "\n",
      "Step 7 - Last 5 rows after capitalization:\n",
      "    school sex  age address famsize Pstatus  Medu  Fedu      Mjob      Fjob  \\\n",
      "390     MS   M   20       U     LE3       A     2     2  Services  Services   \n",
      "391     MS   M   17       U     LE3       T     3     1  Services  Services   \n",
      "392     MS   M   21       R     GT3       T     1     1     Other     Other   \n",
      "393     MS   M   18       R     LE3       T     3     2  Services     Other   \n",
      "394     MS   M   19       U     LE3       T     1     1     Other   At_home   \n",
      "\n",
      "     reason guardian  \n",
      "390  course    other  \n",
      "391  course   mother  \n",
      "392  course    other  \n",
      "393  course   mother  \n",
      "394  course   father  \n"
     ]
    }
   ],
   "source": [
    "print(\"\\nStep 7 - Last 5 rows after capitalization:\")\n",
    "print(stud_alcoh.tail())"
   ]
  },
  {
   "cell_type": "code",
   "execution_count": 7,
   "id": "b82661fa-d1c9-49bc-a066-958f58924c4e",
   "metadata": {},
   "outputs": [],
   "source": [
    "def majority(x):\n",
    "    return x > 17"
   ]
  },
  {
   "cell_type": "code",
   "execution_count": 8,
   "id": "61f4e7ae-8363-438e-9fc0-ad539b73e059",
   "metadata": {},
   "outputs": [
    {
     "name": "stdout",
     "output_type": "stream",
     "text": [
      "\n",
      "Step 9 - With 'legal_drinker' column added:\n",
      "  school sex  age address famsize Pstatus  Medu  Fedu     Mjob      Fjob  \\\n",
      "0     GP   F   18       U     GT3       A     4     4  At_home   Teacher   \n",
      "1     GP   F   17       U     GT3       T     1     1  At_home     Other   \n",
      "2     GP   F   15       U     LE3       T     1     1  At_home     Other   \n",
      "3     GP   F   15       U     GT3       T     4     2   Health  Services   \n",
      "4     GP   F   16       U     GT3       T     3     3    Other     Other   \n",
      "\n",
      "   reason guardian  legal_drinker  \n",
      "0  course   mother           True  \n",
      "1  course   father          False  \n",
      "2   other   mother          False  \n",
      "3    home   mother          False  \n",
      "4    home   father          False  \n"
     ]
    }
   ],
   "source": [
    "stud_alcoh['legal_drinker'] = stud_alcoh['age'].apply(majority)\n",
    "print(\"\\nStep 9 - With 'legal_drinker' column added:\")\n",
    "print(stud_alcoh.head())"
   ]
  },
  {
   "cell_type": "code",
   "execution_count": 9,
   "id": "ae8eeff6-9cca-4b3e-9e32-5aa8ef14c854",
   "metadata": {},
   "outputs": [],
   "source": [
    "def times10(x):\n",
    "    if isinstance(x, int):\n",
    "        return x * 10\n",
    "    return x"
   ]
  },
  {
   "cell_type": "code",
   "execution_count": 10,
   "id": "faf04961-5a00-4da8-9ce8-2f394b7d0620",
   "metadata": {},
   "outputs": [
    {
     "name": "stdout",
     "output_type": "stream",
     "text": [
      "\n",
      "Step 10 - Dataset with numeric values multiplied by 10:\n",
      "  school sex  age address famsize Pstatus  Medu  Fedu      Mjob      Fjob  \\\n",
      "0     GP   F  180       U     GT3       A    40    40   At_home   Teacher   \n",
      "1     GP   F  170       U     GT3       T    10    10   At_home     Other   \n",
      "2     GP   F  150       U     LE3       T    10    10   At_home     Other   \n",
      "3     GP   F  150       U     GT3       T    40    20    Health  Services   \n",
      "4     GP   F  160       U     GT3       T    30    30     Other     Other   \n",
      "5     GP   M  160       U     LE3       T    40    30  Services     Other   \n",
      "6     GP   M  160       U     LE3       T    20    20     Other     Other   \n",
      "7     GP   F  170       U     GT3       A    40    40     Other   Teacher   \n",
      "8     GP   M  150       U     LE3       A    30    20  Services     Other   \n",
      "9     GP   M  150       U     GT3       T    30    40     Other     Other   \n",
      "\n",
      "       reason guardian  legal_drinker  \n",
      "0      course   mother             10  \n",
      "1      course   father              0  \n",
      "2       other   mother              0  \n",
      "3        home   mother              0  \n",
      "4        home   father              0  \n",
      "5  reputation   mother              0  \n",
      "6        home   mother              0  \n",
      "7        home   mother              0  \n",
      "8        home   mother              0  \n",
      "9        home   mother              0  \n"
     ]
    },
    {
     "name": "stderr",
     "output_type": "stream",
     "text": [
      "C:\\Users\\gowth\\AppData\\Local\\Temp\\ipykernel_9336\\3403743851.py:1: FutureWarning: DataFrame.applymap has been deprecated. Use DataFrame.map instead.\n",
      "  multiplied_df = stud_alcoh.applymap(times10)\n"
     ]
    }
   ],
   "source": [
    "multiplied_df = stud_alcoh.applymap(times10)\n",
    "print(\"\\nStep 10 - Dataset with numeric values multiplied by 10:\")\n",
    "print(multiplied_df.head(10))"
   ]
  },
  {
   "cell_type": "code",
   "execution_count": null,
   "id": "99f6dead-a098-4f80-83a1-e1f620ad1a13",
   "metadata": {},
   "outputs": [],
   "source": []
  }
 ],
 "metadata": {
  "kernelspec": {
   "display_name": "Python 3 (ipykernel)",
   "language": "python",
   "name": "python3"
  },
  "language_info": {
   "codemirror_mode": {
    "name": "ipython",
    "version": 3
   },
   "file_extension": ".py",
   "mimetype": "text/x-python",
   "name": "python",
   "nbconvert_exporter": "python",
   "pygments_lexer": "ipython3",
   "version": "3.13.5"
  }
 },
 "nbformat": 4,
 "nbformat_minor": 5
}
