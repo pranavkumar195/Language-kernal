{
 "cells": [
  {
   "cell_type": "code",
   "execution_count": 2,
   "id": "eab92403-b78d-4a4b-a31c-330eb529476b",
   "metadata": {},
   "outputs": [],
   "source": [
    "import pandas as pd \n",
    "from sklearn.feature_extraction.text import CountVectorizer \n",
    "from sklearn.model_selection import train_test_split \n",
    "from sklearn.naive_bayes import MultinomialNB \n",
    "from sklearn.metrics import accuracy_score, classification_report "
   ]
  },
  {
   "cell_type": "code",
   "execution_count": 4,
   "id": "0320f824-67d4-40c1-85a0-df65b02cb73f",
   "metadata": {},
   "outputs": [],
   "source": [
    "data = { \n",
    "'text': [ \n",
    "'Win money now', \n",
    "'Limited offer just for you', \n",
    "'Hi, how are you?', \n",
    "'Call me tomorrow', \n",
    "'Free tickets available', \n",
    "'Congratulations, you won!', \n",
    "'Are you coming to the party?', \n",
    "'Let’s grab lunch today', \n",
    "'Earn extra cash fast', \n",
    "'Meeting at 10 am' \n",
    "], \n",
    "'label': [1, 1, 0, 0, 1, 1, 0, 0, 1, 0]  # 1 = Spam, 0 = Not Spam \n",
    "} \n",
    "df = pd.DataFrame(data)"
   ]
  },
  {
   "cell_type": "code",
   "execution_count": 7,
   "id": "9bfd416a-119a-4598-b886-335db400cbcf",
   "metadata": {},
   "outputs": [],
   "source": [
    "vectorizer = CountVectorizer() \n",
    "X = vectorizer.fit_transform(df['text'])  # Convert text to numbers \n",
    "y = df['label'] \n",
    "X_train, X_test, y_train, y_test = train_test_split(X, y, \n",
    "test_size=0.3, random_state=42)\n",
    "model = MultinomialNB() \n",
    "model.fit(X_train, y_train) \n",
    "y_pred = model.predict(X_test)"
   ]
  },
  {
   "cell_type": "code",
   "execution_count": 11,
   "id": "4b92a1c8-7fd9-462e-857d-bd785f5791a0",
   "metadata": {},
   "outputs": [
    {
     "name": "stdout",
     "output_type": "stream",
     "text": [
      "Accuracy: 0.3333333333333333\n",
      "Report:\n",
      "               precision    recall  f1-score   support\n",
      "\n",
      "           0       0.00      0.00      0.00         0\n",
      "           1       1.00      0.33      0.50         3\n",
      "\n",
      "    accuracy                           0.33         3\n",
      "   macro avg       0.50      0.17      0.25         3\n",
      "weighted avg       1.00      0.33      0.50         3\n",
      "\n",
      "'Win a free laptop now' --> Spam\n",
      "'Let’s have a meeting today' --> Not Spam\n"
     ]
    },
    {
     "name": "stderr",
     "output_type": "stream",
     "text": [
      "C:\\Users\\gowth\\anaconda3\\anconda\\Lib\\site-packages\\sklearn\\metrics\\_classification.py:1565: UndefinedMetricWarning: Recall is ill-defined and being set to 0.0 in labels with no true samples. Use `zero_division` parameter to control this behavior.\n",
      "  _warn_prf(average, modifier, f\"{metric.capitalize()} is\", len(result))\n",
      "C:\\Users\\gowth\\anaconda3\\anconda\\Lib\\site-packages\\sklearn\\metrics\\_classification.py:1565: UndefinedMetricWarning: Recall is ill-defined and being set to 0.0 in labels with no true samples. Use `zero_division` parameter to control this behavior.\n",
      "  _warn_prf(average, modifier, f\"{metric.capitalize()} is\", len(result))\n",
      "C:\\Users\\gowth\\anaconda3\\anconda\\Lib\\site-packages\\sklearn\\metrics\\_classification.py:1565: UndefinedMetricWarning: Recall is ill-defined and being set to 0.0 in labels with no true samples. Use `zero_division` parameter to control this behavior.\n",
      "  _warn_prf(average, modifier, f\"{metric.capitalize()} is\", len(result))\n"
     ]
    }
   ],
   "source": [
    "print(\"Accuracy:\", accuracy_score(y_test, y_pred)) \n",
    "print(\"Report:\\n\", classification_report(y_test, y_pred)) \n",
    "new_messages = ['Win a free laptop now', 'Let’s have a meeting today'] \n",
    "new_features = vectorizer.transform(new_messages) \n",
    "predictions = model.predict(new_features)\n",
    "for msg, label in zip(new_messages, predictions): \n",
    " print(f\"'{msg}' --> {'Spam' if label == 1 else 'Not Spam'}\")"
   ]
  },
  {
   "cell_type": "code",
   "execution_count": null,
   "id": "d66f9b4d-91f9-4041-bd18-177a66acaf8b",
   "metadata": {},
   "outputs": [],
   "source": []
  }
 ],
 "metadata": {
  "kernelspec": {
   "display_name": "Python 3 (ipykernel)",
   "language": "python",
   "name": "python3"
  },
  "language_info": {
   "codemirror_mode": {
    "name": "ipython",
    "version": 3
   },
   "file_extension": ".py",
   "mimetype": "text/x-python",
   "name": "python",
   "nbconvert_exporter": "python",
   "pygments_lexer": "ipython3",
   "version": "3.13.5"
  }
 },
 "nbformat": 4,
 "nbformat_minor": 5
}
